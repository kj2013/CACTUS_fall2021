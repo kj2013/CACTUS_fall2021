{
 "cells": [
  {
   "cell_type": "markdown",
   "metadata": {},
   "source": [
    "# CACTUS Week 1\n",
    "## Import essential libraries"
   ]
  },
  {
   "cell_type": "code",
   "execution_count": 5,
   "metadata": {},
   "outputs": [],
   "source": [
    "# Code thanks to https://towardsdatascience.com/an-extensive-guide-to-collecting-tweets-from-twitter-api-v2-for-academic-research-using-python-3-518fcb71df2a\n",
    "\n",
    "\n",
    "# For sending GET requests from the API\n",
    "import requests\n",
    "# For saving access tokens and for file management when creating and adding to the dataset\n",
    "import os\n",
    "# For dealing with json responses we receive from the API\n",
    "import json\n",
    "# For displaying the data after\n",
    "import pandas as pd\n",
    "# For saving the response data in CSV format\n",
    "import csv\n",
    "# For parsing the dates received from twitter in readable formats\n",
    "import datetime\n",
    "import dateutil.parser\n",
    "import unicodedata\n",
    "#To add wait time between requests\n",
    "import time"
   ]
  },
  {
   "cell_type": "markdown",
   "metadata": {},
   "source": [
    "1. To be able to send your first request to the Twitter API, you need to have a developer account.\n",
    "2. Next, create a project and connect an App through the developer portal.\n",
    "3. Go to the developer portal dashboard\n",
    "4. Sign in with your developer account\n",
    "5. Create a new project, give it a name, a use-case based on the goal you want to achieve, and a description.\n",
    "6. If everything is successful, you should be able to see a page containing your keys and tokens, we will use one of these to access the API. Look out for the BEARER TOKEN. See https://miro.medium.com/max/2400/1*Y20zm9Vf1k5uRMRTMkHRkQ.png\n",
    "\n",
    "7. The next step is to create an auth() function that will have the “Bearer Token” from the app we just created.\n",
    "8. Since this Bearer Token is sensitive information, you should not be sharing it with anyone at all. If you are working with a team you don’t want anyone to have access to it.\n",
    "9. So, we will save the token in an “environment variable”.\n",
    "10. Finally, we will create our auth() function, which retrieves the token from the environment."
   ]
  },
  {
   "cell_type": "code",
   "execution_count": 6,
   "metadata": {},
   "outputs": [],
   "source": [
    "os.environ['TOKEN'] = ''\n",
    "def auth():\n",
    "    return os.getenv('TOKEN')"
   ]
  },
  {
   "cell_type": "markdown",
   "metadata": {},
   "source": [
    "## Create Headers\n",
    "Next, we will define a function that will take our bearer token, pass it for authorization and return headers we will use to access the API."
   ]
  },
  {
   "cell_type": "code",
   "execution_count": 7,
   "metadata": {},
   "outputs": [],
   "source": [
    "def create_headers(bearer_token):\n",
    "    headers = {\"Authorization\": \"Bearer {}\".format(bearer_token)}\n",
    "    return headers"
   ]
  },
  {
   "cell_type": "markdown",
   "metadata": {},
   "source": [
    "# Create URL\n",
    "Now that we can access the API, we will build the request for the endpoint we are going to use and the parameters we want to pass."
   ]
  },
  {
   "cell_type": "code",
   "execution_count": 54,
   "metadata": {},
   "outputs": [],
   "source": [
    "def create_url(keyword):\n",
    "    \n",
    "    search_url = \"https://api.twitter.com/2/tweets/search/recent\" #Change to the endpoint you want to collect data from\n",
    "    # https://developer.twitter.com/en/docs/twitter-api/tweets/search/api-reference/get-tweets-search-recent\n",
    "    #change params based on the endpoint you are using\n",
    "    query_params = {'query': keyword,\n",
    "                    'tweet.fields': 'id,text,author_id,in_reply_to_user_id,geo,conversation_id,created_at,lang,public_metrics,referenced_tweets,reply_settings,source',\n",
    "                    'user.fields': 'id,name,username,created_at,description,public_metrics,verified',\n",
    "                    'place.fields': 'full_name,id,country,country_code,geo,name,place_type',\n",
    "                    'next_token': {}}\n",
    "    return (search_url, query_params)"
   ]
  },
  {
   "cell_type": "markdown",
   "metadata": {},
   "source": [
    "The defined function above contains two pieces:\n",
    "\n",
    "## search_url:\n",
    "\n",
    "Which is the link of the \"endpoint\" we want to access. Endpoint just means.. what we want to do with it. E.g.: if we want all the posts by a user, the endpoint is \"user lookup\"\n",
    "\n",
    "Twitter’s API has a lot of different endpoints. You can look them up here: https://miro.medium.com/max/700/1*1oJExGGK151WfQJ6LIikww.png\n",
    "\n",
    "Right now, this code is written for the full-archive search endpoint.\n",
    "\n",
    "## query_params:\n",
    "\n",
    "The parameters that the endpoint offers and we can use to customize the request we want to send. E.g.: if we want all the posts by a user, the endpoint is \"user lookup\", and the query parameter is the screen name of the user.\n",
    "\n",
    "1. Some parameters control the returned response, e.g., query, start time, end time, max results\n",
    "\n",
    "``'query':        keyword, # (e.g. query can be \"xbox lang:en\" (also specifies that we only what english tweets)\n",
    "``\n",
    "\n",
    "\n",
    "2. Some fields are optional, e.g., you can filter what subset of the full data you want. Only the user data, only the tweet data, or only the place data.\n",
    "\n",
    "``'expansions':   'author_id,in_reply_to_user_id,geo.place_id',\n",
    "'tweet.fields': 'id,text,author_id,in_reply_to_user_id,geo,conversation_id,created_at,lang,public_metrics,referenced_tweets,reply_settings,source',\n",
    "'user.fields':  'id,name,username,created_at,description,public_metrics,verified',\n",
    "'place.fields': 'full_name,id,country,country_code,geo,name,place_type',\n",
    "``\n",
    "3. One field lets you \"turn the page\" when there are hundreds or thousands of results, because the response bunches results into 500 at a time. The \"next_token\" parameter lets you access the next page of results.\n",
    "\n",
    "``'next_token': {}\n",
    "``\n",
    "\n",
    "For the full-archive search endpoint that we are using for this article, you can find the list of query parameters in its API Reference page under the “Query parameters” section, and an example in this image: https://miro.medium.com/max/700/1*Ex1pG3yTXHc6b_dXDvnUoQ.png"
   ]
  },
  {
   "cell_type": "markdown",
   "metadata": {},
   "source": [
    "# Connect to Endpoint\n",
    "Now that we have the URL, headers, and parameters we want, we will create a function that will put all of this together and connect to the endpoint.\n",
    "The function below will send the “GET” request and if everything is correct (response code 200), it will return the response in “JSON” format.\n",
    "Note: next_token is set to “None” by default since we only care about it if it exists."
   ]
  },
  {
   "cell_type": "code",
   "execution_count": 55,
   "metadata": {},
   "outputs": [],
   "source": [
    "def connect_to_endpoint(url, headers, params, next_token = None):\n",
    "    params['next_token'] = next_token   #params object received from create_url function\n",
    "    response = requests.request(\"GET\", url, headers = headers, params = params)\n",
    "    print(\"Endpoint Response Code: \" + str(response.status_code))\n",
    "    if response.status_code != 200:\n",
    "        raise Exception(response.status_code, response.text)\n",
    "    return response.json()"
   ]
  },
  {
   "cell_type": "markdown",
   "metadata": {},
   "source": [
    "# Putting it all Together\n",
    "Now that we have all the functions we need, let's test putting them all together to create our first request!\n",
    "\n",
    "In the next cell, we will set up our inputs:\n",
    "bearer_token and headers from the API.\n",
    "\n",
    "We will look for tweets in English that contain the word “xbox”.\n",
    "\n",
    "We will look for tweets between the 1st and the 31st of March, 2021.\n",
    "\n",
    "We want only a maximum of 15 tweets returned."
   ]
  },
  {
   "cell_type": "code",
   "execution_count": 56,
   "metadata": {},
   "outputs": [],
   "source": [
    "#Inputs for the request\n",
    "bearer_token = auth()\n",
    "headers = create_headers(bearer_token)\n",
    "keyword = \"xbox lang:en\"\n"
   ]
  },
  {
   "cell_type": "markdown",
   "metadata": {},
   "source": [
    "Now we will create the URL and get the response from the API.\n",
    "\n",
    "The response returned from the Twitter API is returned in JavaScript Object Notation “JSON” format.\n",
    "\n",
    "To be able to deal with it and break down the response we get, we will the encoder and decoder that exists for python which we have imported earlier. You can find more information about the library here: https://docs.python.org/3/library/json.html\n",
    "\n",
    "If the returned response from the below code is 200, then the request was successful."
   ]
  },
  {
   "cell_type": "code",
   "execution_count": 57,
   "metadata": {},
   "outputs": [
    {
     "name": "stdout",
     "output_type": "stream",
     "text": [
      "Endpoint Response Code: 200\n"
     ]
    }
   ],
   "source": [
    "url = create_url(keyword)\n",
    "json_response = connect_to_endpoint(url[0], headers, url[1])"
   ]
  },
  {
   "cell_type": "markdown",
   "metadata": {},
   "source": [
    "Lets print the response in a readable format using this JSON library functions"
   ]
  },
  {
   "cell_type": "code",
   "execution_count": 59,
   "metadata": {},
   "outputs": [
    {
     "name": "stdout",
     "output_type": "stream",
     "text": [
      "{\n",
      "    \"data\": [\n",
      "        {\n",
      "            \"author_id\": \"1082608942847574017\",\n",
      "            \"conversation_id\": \"1461648044848521217\",\n",
      "            \"created_at\": \"2021-11-19T10:50:24.000Z\",\n",
      "            \"id\": \"1461648044848521217\",\n",
      "            \"lang\": \"en\",\n",
      "            \"public_metrics\": {\n",
      "                \"like_count\": 0,\n",
      "                \"quote_count\": 0,\n",
      "                \"reply_count\": 0,\n",
      "                \"retweet_count\": 76\n",
      "            },\n",
      "            \"referenced_tweets\": [\n",
      "                {\n",
      "                    \"id\": \"1461439491395112960\",\n",
      "                    \"type\": \"retweeted\"\n",
      "                }\n",
      "            ],\n",
      "            \"reply_settings\": \"everyone\",\n",
      "            \"source\": \"Twitter for iPhone\",\n",
      "            \"text\": \"RT @LD50_II: Neat little hidden sign on the Halo xbox https://t.co/Q9M9w4axot\"\n",
      "        },\n",
      "        {\n",
      "            \"author_id\": \"1440356865951428611\",\n",
      "            \"conversation_id\": \"1461424151365922822\",\n",
      "            \"created_at\": \"2021-11-19T10:50:24.000Z\",\n",
      "            \"id\": \"1461648044663795723\",\n",
      "            \"in_reply_to_user_id\": \"1186334675184295936\",\n",
      "            \"lang\": \"en\",\n",
      "            \"public_metrics\": {\n",
      "                \"like_count\": 0,\n",
      "                \"quote_count\": 0,\n",
      "                \"reply_count\": 0,\n",
      "                \"retweet_count\": 0\n",
      "            },\n",
      "            \"referenced_tweets\": [\n",
      "                {\n",
      "                    \"id\": \"1461438043668328455\",\n",
      "                    \"type\": \"replied_to\"\n",
      "                }\n",
      "            ],\n",
      "            \"reply_settings\": \"everyone\",\n",
      "            \"source\": \"Twitter for Android\",\n",
      "            \"text\": \"@Pompe11B @luck_myst3r @Xbox What came first tho?\"\n",
      "        },\n",
      "        {\n",
      "            \"author_id\": \"1400433241\",\n",
      "            \"conversation_id\": \"1461336457570922497\",\n",
      "            \"created_at\": \"2021-11-19T10:50:24.000Z\",\n",
      "            \"id\": \"1461648044278140932\",\n",
      "            \"in_reply_to_user_id\": \"1450160715906502662\",\n",
      "            \"lang\": \"en\",\n",
      "            \"public_metrics\": {\n",
      "                \"like_count\": 0,\n",
      "                \"quote_count\": 0,\n",
      "                \"reply_count\": 0,\n",
      "                \"retweet_count\": 0\n",
      "            },\n",
      "            \"referenced_tweets\": [\n",
      "                {\n",
      "                    \"id\": \"1461344355768160261\",\n",
      "                    \"type\": \"replied_to\"\n",
      "                }\n",
      "            ],\n",
      "            \"reply_settings\": \"everyone\",\n",
      "            \"source\": \"Twitter for iPhone\",\n",
      "            \"text\": \"@VictorHeskia @TylorMarshall1 @Battlefield @Xbox We paid in full 100$ to get a full game, that\\u2019s why people complain\"\n",
      "        },\n",
      "        {\n",
      "            \"author_id\": \"968825807568187392\",\n",
      "            \"conversation_id\": \"1461648040654082048\",\n",
      "            \"created_at\": \"2021-11-19T10:50:23.000Z\",\n",
      "            \"id\": \"1461648040654082048\",\n",
      "            \"lang\": \"en\",\n",
      "            \"public_metrics\": {\n",
      "                \"like_count\": 0,\n",
      "                \"quote_count\": 0,\n",
      "                \"reply_count\": 0,\n",
      "                \"retweet_count\": 1239\n",
      "            },\n",
      "            \"referenced_tweets\": [\n",
      "                {\n",
      "                    \"id\": \"1461455377887866883\",\n",
      "                    \"type\": \"retweeted\"\n",
      "                }\n",
      "            ],\n",
      "            \"reply_settings\": \"everyone\",\n",
      "            \"source\": \"Twitter for Android\",\n",
      "            \"text\": \"RT @Toadsanime: Phil Spencer this week has criticised NFTs, promoted industry use of emulation and better preservation, and called out Acti\\u2026\"\n",
      "        },\n",
      "        {\n",
      "            \"author_id\": \"1288086164168114177\",\n",
      "            \"conversation_id\": \"1461648034387972096\",\n",
      "            \"created_at\": \"2021-11-19T10:50:22.000Z\",\n",
      "            \"id\": \"1461648034387972096\",\n",
      "            \"lang\": \"en\",\n",
      "            \"public_metrics\": {\n",
      "                \"like_count\": 0,\n",
      "                \"quote_count\": 0,\n",
      "                \"reply_count\": 0,\n",
      "                \"retweet_count\": 89\n",
      "            },\n",
      "            \"referenced_tweets\": [\n",
      "                {\n",
      "                    \"id\": \"1461386235142885377\",\n",
      "                    \"type\": \"retweeted\"\n",
      "                }\n",
      "            ],\n",
      "            \"reply_settings\": \"everyone\",\n",
      "            \"source\": \"Twitter Web App\",\n",
      "            \"text\": \"RT @JanduSoft: \\u26f3 Smoots Golf - available now! \\u26f3\\n\\n\\ud83c\\udf81 Game #Contest \\ud83c\\udf81 \\n\\nWill you be the Golf Champion?\\n\\n\\u27a1\\ufe0f @JanduSoft &amp; @KanedaGamesSL \\n\\ud83d\\udd04 Rt &amp;\\u2026\"\n",
      "        },\n",
      "        {\n",
      "            \"author_id\": \"1413913542080831490\",\n",
      "            \"conversation_id\": \"1461648032370470917\",\n",
      "            \"created_at\": \"2021-11-19T10:50:21.000Z\",\n",
      "            \"id\": \"1461648032370470917\",\n",
      "            \"lang\": \"en\",\n",
      "            \"public_metrics\": {\n",
      "                \"like_count\": 0,\n",
      "                \"quote_count\": 0,\n",
      "                \"reply_count\": 0,\n",
      "                \"retweet_count\": 3237\n",
      "            },\n",
      "            \"referenced_tweets\": [\n",
      "                {\n",
      "                    \"id\": \"1461483509520896003\",\n",
      "                    \"type\": \"retweeted\"\n",
      "                }\n",
      "            ],\n",
      "            \"reply_settings\": \"everyone\",\n",
      "            \"source\": \"Twitter for iPhone\",\n",
      "            \"text\": \"RT @aarongreenberg: Giving away two more free codes for @Battlefield 2042 Ultimate Edition on Xbox in advance of launch tomorrow. RT and mu\\u2026\"\n",
      "        },\n",
      "        {\n",
      "            \"author_id\": \"474344675\",\n",
      "            \"conversation_id\": \"1461648030378172424\",\n",
      "            \"created_at\": \"2021-11-19T10:50:21.000Z\",\n",
      "            \"id\": \"1461648030378172424\",\n",
      "            \"in_reply_to_user_id\": \"117700355\",\n",
      "            \"lang\": \"en\",\n",
      "            \"public_metrics\": {\n",
      "                \"like_count\": 0,\n",
      "                \"quote_count\": 0,\n",
      "                \"reply_count\": 0,\n",
      "                \"retweet_count\": 0\n",
      "            },\n",
      "            \"reply_settings\": \"everyone\",\n",
      "            \"source\": \"Twitter for iPhone\",\n",
      "            \"text\": \"@samuelofc Hey Sam, picked up the Halo Elite pad and the DLC code that came with it is incomplete. Can DM evidence (bet loads of people BS you on similar things). Any chance this is something you could help with? Tried Xbox Support but no reply. Thanks!\"\n",
      "        },\n",
      "        {\n",
      "            \"author_id\": \"2582559912\",\n",
      "            \"conversation_id\": \"1461648015375089664\",\n",
      "            \"created_at\": \"2021-11-19T10:50:17.000Z\",\n",
      "            \"id\": \"1461648015375089664\",\n",
      "            \"lang\": \"en\",\n",
      "            \"public_metrics\": {\n",
      "                \"like_count\": 0,\n",
      "                \"quote_count\": 0,\n",
      "                \"reply_count\": 0,\n",
      "                \"retweet_count\": 0\n",
      "            },\n",
      "            \"reply_settings\": \"everyone\",\n",
      "            \"source\": \"Twitter Web App\",\n",
      "            \"text\": \"2020 was kind of my year tbh\\n\\n-finished writing 4 books\\n-won an xbox in a christmas raffle\\n-gave myself awful bangs on March 15 and 2-month-lockdown started on March 16\"\n",
      "        },\n",
      "        {\n",
      "            \"author_id\": \"950888566774730752\",\n",
      "            \"conversation_id\": \"1461355123964190737\",\n",
      "            \"created_at\": \"2021-11-19T10:50:17.000Z\",\n",
      "            \"id\": \"1461648012967612417\",\n",
      "            \"in_reply_to_user_id\": \"1119149931669835777\",\n",
      "            \"lang\": \"en\",\n",
      "            \"public_metrics\": {\n",
      "                \"like_count\": 0,\n",
      "                \"quote_count\": 0,\n",
      "                \"reply_count\": 0,\n",
      "                \"retweet_count\": 0\n",
      "            },\n",
      "            \"referenced_tweets\": [\n",
      "                {\n",
      "                    \"id\": \"1461494997547585540\",\n",
      "                    \"type\": \"replied_to\"\n",
      "                }\n",
      "            ],\n",
      "            \"reply_settings\": \"everyone\",\n",
      "            \"source\": \"Twitter for Android\",\n",
      "            \"text\": \"@Virus_Elite_G_N @videotech_ Xbox? \\ud83e\\udd23 \\ud83e\\udd23 \\ud83e\\udd23 \\ud83e\\udd23 PlayStation for life. \\ud83d\\ude02 \\ud83d\\ude02\"\n",
      "        },\n",
      "        {\n",
      "            \"author_id\": \"1208755116280561664\",\n",
      "            \"conversation_id\": \"1461648004826468359\",\n",
      "            \"created_at\": \"2021-11-19T10:50:15.000Z\",\n",
      "            \"id\": \"1461648004826468359\",\n",
      "            \"lang\": \"en\",\n",
      "            \"public_metrics\": {\n",
      "                \"like_count\": 0,\n",
      "                \"quote_count\": 0,\n",
      "                \"reply_count\": 0,\n",
      "                \"retweet_count\": 5366\n",
      "            },\n",
      "            \"referenced_tweets\": [\n",
      "                {\n",
      "                    \"id\": \"1458451895169728523\",\n",
      "                    \"type\": \"retweeted\"\n",
      "                }\n",
      "            ],\n",
      "            \"reply_settings\": \"everyone\",\n",
      "            \"source\": \"Twitter Web App\",\n",
      "            \"text\": \"RT @JW_Evolution: Some awesome Jurassic World Evolution 2 merch? An incredible CloudX Stinger Core headset from @HyperX?? An amazing EPIC T\\u2026\"\n",
      "        }\n",
      "    ],\n",
      "    \"meta\": {\n",
      "        \"newest_id\": \"1461648044848521217\",\n",
      "        \"next_token\": \"b26v89c19zqg8o3fpdy5zod1ze0pto59mjulad4nt82v1\",\n",
      "        \"oldest_id\": \"1461648004826468359\",\n",
      "        \"result_count\": 10\n",
      "    }\n",
      "}\n"
     ]
    }
   ],
   "source": [
    "print(json.dumps(json_response, indent=4, sort_keys=True))"
   ]
  },
  {
   "cell_type": "markdown",
   "metadata": {},
   "source": [
    "# Exploring the JSON response\n",
    "\n",
    "Now let's break down the returned JSON response.\n",
    "the response is basically read as a Python dictionary and the keys either contain data or contain more dictionaries. The top two keys are:\n",
    "\n",
    "## Data\n",
    "A list of dictionaries, each dictionary represents the data for a tweet. Example on how to retrieve the time from the first tweet was created:"
   ]
  },
  {
   "cell_type": "code",
   "execution_count": 25,
   "metadata": {},
   "outputs": [
    {
     "data": {
      "text/plain": [
       "'2021-11-19T09:59:33.000Z'"
      ]
     },
     "execution_count": 25,
     "metadata": {},
     "output_type": "execute_result"
    }
   ],
   "source": [
    "json_response['data'][0]['created_at']"
   ]
  },
  {
   "cell_type": "markdown",
   "metadata": {},
   "source": [
    "## Meta\n",
    "A dictionary of attributes about the request we sent, we usually would only care about two keys in this dictionary, next_token and result_count.\n",
    "\n",
    "1. next_token is the unique ID field for the next page of results\n",
    "2. result_count is the number of results returned from the request\n"
   ]
  },
  {
   "cell_type": "code",
   "execution_count": 61,
   "metadata": {},
   "outputs": [
    {
     "name": "stdout",
     "output_type": "stream",
     "text": [
      "b26v89c19zqg8o3fpdy5zod1ze0pto59mjulad4nt82v1\n",
      "10\n"
     ]
    }
   ],
   "source": [
    "# 1. next_token is the unique ID field for the next page of results\n",
    "print(json_response['meta']['next_token'])\n",
    "#nothing because we said we want only 15 results\n",
    "\n",
    "\n",
    "# 2. result_count is the number of results returned from the request\n",
    "\n",
    "print(json_response['meta']['result_count'])"
   ]
  },
  {
   "cell_type": "markdown",
   "metadata": {},
   "source": [
    "# Write to CSV file"
   ]
  },
  {
   "cell_type": "code",
   "execution_count": 27,
   "metadata": {},
   "outputs": [],
   "source": [
    "df = pd.DataFrame(json_response['data'])\n",
    "df.to_csv('data.csv')"
   ]
  },
  {
   "cell_type": "markdown",
   "metadata": {},
   "source": [
    "## The custom approach:\n",
    "First, we will create a CSV file with our desired column headers, we will do this separately from our actual function so later on it does not interfere with looping over requests."
   ]
  },
  {
   "cell_type": "code",
   "execution_count": 28,
   "metadata": {},
   "outputs": [],
   "source": [
    "# Create file\n",
    "csvFile = open(\"data.csv\", \"a\", newline=\"\", encoding='utf-8')\n",
    "csvWriter = csv.writer(csvFile)\n",
    "\n",
    "#Create headers for the data you want to save, in this example, we only want save these columns in our dataset\n",
    "csvWriter.writerow(['author id', 'created_at', 'geo', 'id','lang', 'like_count', 'quote_count', 'reply_count','retweet_count','source','tweet'])\n",
    "csvFile.close()"
   ]
  },
  {
   "cell_type": "markdown",
   "metadata": {},
   "source": [
    "Then, we will create our append_to_csv function, which we will input the response and desired filename into, and the function will append all the data we collected to the CSV file."
   ]
  },
  {
   "cell_type": "code",
   "execution_count": 29,
   "metadata": {},
   "outputs": [],
   "source": [
    "def append_to_csv(json_response, fileName):\n",
    "\n",
    "    #A counter variable\n",
    "    counter = 0\n",
    "\n",
    "    #Open OR create the target CSV file\n",
    "    csvFile = open(fileName, \"a\", newline=\"\", encoding='utf-8')\n",
    "    csvWriter = csv.writer(csvFile)\n",
    "\n",
    "    #Loop through each tweet\n",
    "    for tweet in json_response['data']:\n",
    "        \n",
    "        # We will create a variable for each since some of the keys might not exist for some tweets\n",
    "        # So we will account for that\n",
    "\n",
    "        # 1. Author ID\n",
    "        author_id = tweet['author_id']\n",
    "\n",
    "        # 2. Time created\n",
    "        created_at = dateutil.parser.parse(tweet['created_at'])\n",
    "\n",
    "        # 3. Geolocation\n",
    "        if ('geo' in tweet):   \n",
    "            geo = tweet['geo']['place_id']\n",
    "        else:\n",
    "            geo = \" \"\n",
    "\n",
    "        # 4. Tweet ID\n",
    "        tweet_id = tweet['id']\n",
    "\n",
    "        # 5. Language\n",
    "        lang = tweet['lang']\n",
    "\n",
    "        # 6. Tweet metrics\n",
    "        retweet_count = tweet['public_metrics']['retweet_count']\n",
    "        reply_count = tweet['public_metrics']['reply_count']\n",
    "        like_count = tweet['public_metrics']['like_count']\n",
    "        quote_count = tweet['public_metrics']['quote_count']\n",
    "\n",
    "        # 7. source\n",
    "        source = tweet['source']\n",
    "\n",
    "        # 8. Tweet text\n",
    "        text = tweet['text']\n",
    "        \n",
    "        # Assemble all data in a list\n",
    "        res = [author_id, created_at, geo, tweet_id, lang, like_count, quote_count, reply_count, retweet_count, source, text]\n",
    "        \n",
    "        # Append the result to the CSV file\n",
    "        csvWriter.writerow(res)\n",
    "        counter += 1\n",
    "\n",
    "    # When done, close the CSV file\n",
    "    csvFile.close()\n",
    "\n",
    "    # Print the number of tweets for this iteration\n",
    "    print(\"# of Tweets added from this response: \", counter) "
   ]
  },
  {
   "cell_type": "code",
   "execution_count": 30,
   "metadata": {},
   "outputs": [
    {
     "name": "stdout",
     "output_type": "stream",
     "text": [
      "# of Tweets added from this response:  10\n"
     ]
    }
   ],
   "source": [
    "#Now if we run our append_to_csv() function on our last call, \n",
    "#we should have a file that contains 15 tweets (or less depending on your query)\n",
    "\n",
    "append_to_csv(json_response, \"data.csv\")\n"
   ]
  },
  {
   "cell_type": "markdown",
   "metadata": {},
   "source": [
    "# Looping Through Requests\n",
    "Now, what if we want to save more responses? Beyond the first 500 results that Twitter gave us or if we want to automate getting Tweets over a specific period of time. For that, we will be using loops and the next_token variables we receive from Twitter.\n",
    "\n",
    "What we can do is, we can set a limit for tweets we want to collect per month, so that if we reach the specific cap at one month, we move on to the next one.\n",
    "\n",
    "The code below is an example that will just do that exactly! The block of code below is composed of two loops:\n",
    "\n",
    "A For-loop that goes over the months/weeks/days we want to cover (Depending on how it is set)\n",
    "\n",
    "A While-loop that controls the maximum number of tweets we want to collect per time period.\n",
    "\n",
    "Notice that a time.sleep() is added between calls to ensure you are not just spamming the API with requests."
   ]
  },
  {
   "cell_type": "code",
   "execution_count": 67,
   "metadata": {},
   "outputs": [
    {
     "name": "stdout",
     "output_type": "stream",
     "text": [
      "-------------------\n",
      "Token:  None\n",
      "Endpoint Response Code: 200\n",
      "Next Token:  b26v89c19zqg8o3fpdy5zod20xxgh1rnb1qjn626527wd\n",
      "# of Tweets added from this response:  10\n",
      "Total # of Tweets added:  10\n",
      "-------------------\n",
      "-------------------\n",
      "Token:  b26v89c19zqg8o3fpdy5zod20xxgh1rnb1qjn626527wd\n",
      "Endpoint Response Code: 200\n",
      "Next Token:  b26v89c19zqg8o3fpdy5zod20xx9z9yz6nve35uutgb5p\n",
      "# of Tweets added from this response:  10\n",
      "Total # of Tweets added:  20\n",
      "-------------------\n",
      "-------------------\n",
      "Token:  b26v89c19zqg8o3fpdy5zod20xx9z9yz6nve35uutgb5p\n",
      "Endpoint Response Code: 200\n",
      "Next Token:  b26v89c19zqg8o3fpdy5zod20xpooo1w874olkon3gzgd\n",
      "# of Tweets added from this response:  10\n",
      "Total # of Tweets added:  30\n",
      "-------------------\n",
      "-------------------\n",
      "Token:  b26v89c19zqg8o3fpdy5zod20xpooo1w874olkon3gzgd\n",
      "Endpoint Response Code: 200\n",
      "Next Token:  b26v89c19zqg8o3fpdy5zod20xi06rtb7bdco52823eyl\n",
      "# of Tweets added from this response:  10\n",
      "Total # of Tweets added:  40\n",
      "-------------------\n",
      "-------------------\n",
      "Token:  b26v89c19zqg8o3fpdy5zod20xi06rtb7bdco52823eyl\n",
      "Endpoint Response Code: 200\n",
      "Next Token:  b26v89c19zqg8o3fpdy5zod20xacpxrhfh35mykjzpoxp\n",
      "# of Tweets added from this response:  10\n",
      "Total # of Tweets added:  50\n",
      "-------------------\n"
     ]
    },
    {
     "ename": "KeyboardInterrupt",
     "evalue": "",
     "output_type": "error",
     "traceback": [
      "\u001b[1;31m---------------------------------------------------------------------------\u001b[0m",
      "\u001b[1;31mKeyboardInterrupt\u001b[0m                         Traceback (most recent call last)",
      "\u001b[1;32m<ipython-input-67-0e09d6d2075b>\u001b[0m in \u001b[0;36m<module>\u001b[1;34m\u001b[0m\n\u001b[0;32m     58\u001b[0m             \u001b[0mflag\u001b[0m \u001b[1;33m=\u001b[0m \u001b[1;32mFalse\u001b[0m\u001b[1;33m\u001b[0m\u001b[1;33m\u001b[0m\u001b[0m\n\u001b[0;32m     59\u001b[0m             \u001b[0mnext_token\u001b[0m \u001b[1;33m=\u001b[0m \u001b[1;32mNone\u001b[0m\u001b[1;33m\u001b[0m\u001b[1;33m\u001b[0m\u001b[0m\n\u001b[1;32m---> 60\u001b[1;33m         \u001b[0mtime\u001b[0m\u001b[1;33m.\u001b[0m\u001b[0msleep\u001b[0m\u001b[1;33m(\u001b[0m\u001b[1;36m5\u001b[0m\u001b[1;33m)\u001b[0m\u001b[1;33m\u001b[0m\u001b[1;33m\u001b[0m\u001b[0m\n\u001b[0m\u001b[0;32m     61\u001b[0m \u001b[0mprint\u001b[0m\u001b[1;33m(\u001b[0m\u001b[1;34m\"Total number of results: \"\u001b[0m\u001b[1;33m,\u001b[0m \u001b[0mtotal_tweets\u001b[0m\u001b[1;33m)\u001b[0m\u001b[1;33m\u001b[0m\u001b[1;33m\u001b[0m\u001b[0m\n",
      "\u001b[1;31mKeyboardInterrupt\u001b[0m: "
     ]
    }
   ],
   "source": [
    "#Inputs for tweets\n",
    "bearer_token = auth()\n",
    "headers = create_headers(bearer_token)\n",
    "keyword = \"xbox lang:en\"\n",
    "\n",
    "#Total number of tweets we collected from the loop\n",
    "total_tweets = 0\n",
    "\n",
    "# Create file\n",
    "csvFile = open(\"data.csv\", \"a\", newline=\"\", encoding='utf-8')\n",
    "csvWriter = csv.writer(csvFile)\n",
    "\n",
    "#Create headers for the data you want to save, in this example, we only want save these columns in our dataset\n",
    "csvWriter.writerow(['author id', 'created_at', 'geo', 'id','lang', 'like_count', 'quote_count', 'reply_count','retweet_count','source','tweet'])\n",
    "csvFile.close()\n",
    "\n",
    "# Inputs\n",
    "count = 0 # Counting tweets per time period\n",
    "max_results = 100 # Max tweets per time period\n",
    "max_count = 1000\n",
    "flag = True\n",
    "next_token = None #json_response['meta']['next_token']\n",
    "    \n",
    "    # Check if flag is true\n",
    "while flag:\n",
    "        # Check if max_count reached\n",
    "        if count >= max_count:\n",
    "            break\n",
    "        print(\"-------------------\")\n",
    "        print(\"Token: \", next_token)\n",
    "        url = create_url(keyword)\n",
    "        json_response = connect_to_endpoint(url[0], headers, url[1], next_token)\n",
    "        result_count = json_response['meta']['result_count']\n",
    "\n",
    "        if 'next_token' in json_response['meta']:\n",
    "            # Save the token to use for next call\n",
    "            next_token = json_response['meta']['next_token']\n",
    "            print(\"Next Token: \", next_token)\n",
    "            if result_count is not None and result_count > 0 and next_token is not None:\n",
    "                append_to_csv(json_response, \"data.csv\")\n",
    "                count += result_count\n",
    "                total_tweets += result_count\n",
    "                print(\"Total # of Tweets added: \", total_tweets)\n",
    "                print(\"-------------------\")\n",
    "                time.sleep(5)                \n",
    "        # If no next token exists\n",
    "        else:\n",
    "            if result_count is not None and result_count > 0:\n",
    "                print(\"-------------------\")\n",
    "                append_to_csv(json_response, \"data.csv\")\n",
    "                count += result_count\n",
    "                total_tweets += result_count\n",
    "                print(\"Total # of Tweets added: \", total_tweets)\n",
    "                print(\"-------------------\")\n",
    "                time.sleep(5)\n",
    "            \n",
    "            #Since this is the final request, turn flag to false to move to the next time period.\n",
    "            flag = False\n",
    "            next_token = None\n",
    "        time.sleep(5)\n",
    "print(\"Total number of results: \", total_tweets)"
   ]
  },
  {
   "cell_type": "code",
   "execution_count": null,
   "metadata": {},
   "outputs": [],
   "source": []
  }
 ],
 "metadata": {
  "kernelspec": {
   "display_name": "Python 3",
   "language": "python",
   "name": "python3"
  },
  "language_info": {
   "codemirror_mode": {
    "name": "ipython",
    "version": 3
   },
   "file_extension": ".py",
   "mimetype": "text/x-python",
   "name": "python",
   "nbconvert_exporter": "python",
   "pygments_lexer": "ipython3",
   "version": "3.8.5"
  }
 },
 "nbformat": 4,
 "nbformat_minor": 4
}
