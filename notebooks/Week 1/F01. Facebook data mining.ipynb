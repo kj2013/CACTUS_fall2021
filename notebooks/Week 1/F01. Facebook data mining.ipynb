{
 "cells": [
  {
   "cell_type": "markdown",
   "metadata": {},
   "source": [
    "# Mining Facebook: Analyzing Fan Pages, Examining Friendships, and More\n",
    "\n",
    "This IPython Notebook provides an interactive way to follow along with and explore the numbered examples from [_Mining the Social Web (2nd Edition)_](http://bit.ly/135dHfs). The intent behind this notebook is to reinforce the concepts from the sample code in a fun, convenient, and effective way. This notebook assumes that you are reading along with the book and have the context of the discussion as you work through these exercises.\n",
    "\n",
    "In the somewhat unlikely event that you've somehow stumbled across this notebook outside of its context on GitHub, [you can find the full source code repository here](http://bit.ly/16kGNyb).\n",
    "\n",
    "## Copyright and Licensing\n",
    "\n",
    "You are free to use or adapt this notebook for any purpose you'd like. However, please respect the [Simplified BSD License](https://github.com/ptwobrussell/Mining-the-Social-Web-2nd-Edition/blob/master/LICENSE.txt) that governs its use."
   ]
  },
  {
   "cell_type": "markdown",
   "metadata": {},
   "source": [
    "# Facebook API Access\n",
    "\n",
    "Facebook implements OAuth 2.0 as its standard authentication mechanism, but provides a convenient way for you to get an _access token_ for development purposes, and we'll opt to take advantage of that convenience in this notebook. For details on implementing an OAuth flow with Facebook (all from within IPython Notebook), see the \\_AppendixB notebook from the [IPython Notebook Dashboard](/).\n",
    "\n",
    "For this first example, login to your Facebook account and go to https://developers.facebook.com/tools/explorer/ to obtain and set permissions for an access token that you will need to define in the code cell defining the ACCESS_TOKEN variable below.  \n",
    "\n",
    "Be sure to explore the permissions that are available by clicking on the \"Get Access Token\" button that's on the page and exploring all of the tabs available. For example, you will need to set the \"friends_likes\" option under the \"Friends Data Permissions\" since this permission is used by the script below but is not a basic permission and is not enabled by default. \n",
    "\n",
    "<img src=\"files/resources/ch02-facebook/images/FB_GraphExplorer_perms.png\" width=\"300px\" /><br />"
   ]
  },
  {
   "cell_type": "code",
   "execution_count": 1,
   "metadata": {},
   "outputs": [],
   "source": [
    "# Copy and paste in the value you just got from the inline frame into this variable and execute this cell.\n",
    "# Keep in mind that you could have just gone to https://developers.facebook.com/tools/access_token/\n",
    "# and retrieved the \"User Token\" value from the Access Token Tool\n",
    "ACCESS_TOKEN = ''\n"
   ]
  },
  {
   "cell_type": "markdown",
   "metadata": {},
   "source": [
    "## Example 1. Making Graph API requests over HTTP"
   ]
  },
  {
   "cell_type": "code",
   "execution_count": 2,
   "metadata": {},
   "outputs": [
    {
     "name": "stdout",
     "output_type": "stream",
     "text": [
      "https://graph.facebook.com/me?fields=id,name,friends.limit(10).fields(likes.limit(10))&access_token=EAACnHoiQvFQBADx5OwQwREzHdGRD8R2OTSrFBNo6DtKv5CnvIeYDS3VIMlHHZAC9TbwtRZAxEez3iuDJ61AfN9K0ZCUNKn4tsHPrsGUWcwJ6wQwBy4IygOQcrr0b2cvOLHxBqYQcjshZCZAhFMf9qu6cSMXgaYcj9TmzYmPYWtjxZBFxrnGjp0HPxImbbesJJQ5wk4ctLVhQZDZD\n",
      "{\n",
      " \"id\": \"10157582626180199\",\n",
      " \"name\": \"Kokil Jaidka\"\n",
      "}\n"
     ]
    }
   ],
   "source": [
    "import requests # pip install requests\n",
    "import json\n",
    "\n",
    "base_url = 'https://graph.facebook.com/me'\n",
    "\n",
    "# Get 10 likes for 10 friends\n",
    "fields = 'id,name,friends.limit(10).fields(likes.limit(10))'\n",
    "\n",
    "url = '%s?fields=%s&access_token=%s' % \\\n",
    "    (base_url, fields, ACCESS_TOKEN,)\n",
    "\n",
    "# This API is HTTP-based and could be requested in the browser,\n",
    "# with a command line utlity like curl, or using just about\n",
    "# any programming language by making a request to the URL.\n",
    "# Click the hyperlink that appears in your notebook output\n",
    "# when you execute this code cell to see for yourself...\n",
    "print(url)\n",
    "\n",
    "# Interpret the response as JSON and convert back\n",
    "# to Python data structures\n",
    "content = requests.get(url).json()\n",
    "\n",
    "# Pretty-print the JSON and display it\n",
    "print(json.dumps(content, indent=1))"
   ]
  },
  {
   "cell_type": "markdown",
   "metadata": {},
   "source": [
    "Note: If you attempt to run a query for all of your friends' likes and it appears to hang, it is probably because you have a lot of friends who have a lot of likes. If this happens, you may need to add limits and offsets to the fields in the query as described in Facebook's [field expansion](https://developers.facebook.com/docs/reference/api/field_expansion/) documentation. However, the <code>facebook</code> library that we'll use in the next example handles some of these issues, so it's recommended that you hold off and try it out first. This initial example is just to illustrate that Facebook's API is built on top of HTTP.\n",
    "\n",
    "A couple of field limit/offset examples that illustrate the possibilities follow:\n",
    "\n",
    "<code>\n",
    "fields = 'id,name,friends.limit(10).fields(likes)'            # Get all likes for 10 friends \n",
    "fields = 'id,name,friends.offset(10).limit(10).fields(likes)' # Get all likes for 10 more friends \n",
    "fields = 'id,name,friends.fields(likes.limit(10))'            # Get 10 likes for all friends \n",
    "fields = 'id,name,friends.fields(likes.limit(10))'            # Get 10 likes for all friends\n",
    "</code>"
   ]
  },
  {
   "cell_type": "markdown",
   "metadata": {},
   "source": [
    "## Example 2. Querying the Graph API with Python"
   ]
  },
  {
   "cell_type": "code",
   "execution_count": 5,
   "metadata": {},
   "outputs": [
    {
     "name": "stdout",
     "output_type": "stream",
     "text": [
      "Collecting facebook-sdk\n",
      "  Downloading facebook_sdk-3.1.0-py2.py3-none-any.whl (7.5 kB)\n",
      "Requirement already satisfied: requests in c:\\programdata\\anaconda3\\lib\\site-packages (from facebook-sdk) (2.24.0)\n",
      "Requirement already satisfied: certifi>=2017.4.17 in c:\\programdata\\anaconda3\\lib\\site-packages (from requests->facebook-sdk) (2020.6.20)\n",
      "Requirement already satisfied: idna<3,>=2.5 in c:\\programdata\\anaconda3\\lib\\site-packages (from requests->facebook-sdk) (2.10)\n",
      "Requirement already satisfied: chardet<4,>=3.0.2 in c:\\programdata\\anaconda3\\lib\\site-packages (from requests->facebook-sdk) (3.0.4)\n",
      "Requirement already satisfied: urllib3!=1.25.0,!=1.25.1,<1.26,>=1.21.1 in c:\\programdata\\anaconda3\\lib\\site-packages (from requests->facebook-sdk) (1.25.11)\n",
      "Installing collected packages: facebook-sdk\n",
      "Successfully installed facebook-sdk-3.1.0\n",
      "---------------\n",
      "Me\n",
      "---------------\n",
      "{\n",
      " \"name\": \"Kokil Jaidka\",\n",
      " \"id\": \"10157582626180199\"\n",
      "}\n",
      "---------------\n",
      "My Friends\n",
      "---------------\n",
      "{\n",
      " \"data\": []\n",
      "}\n",
      "---------------\n",
      "Social Web\n",
      "---------------\n",
      "{\n",
      " \"data\": []\n",
      "}\n"
     ]
    }
   ],
   "source": [
    "#import facebook # \n",
    "!pip install facebook-sdk\n",
    "import facebook\n",
    "import json\n",
    "\n",
    "# A helper function to pretty-print Python objects as JSON\n",
    "\n",
    "def pp(o): \n",
    "    print(json.dumps(o, indent=1))\n",
    "\n",
    "# Create a connection to the Graph API with your access token\n",
    "\n",
    "g = facebook.GraphAPI(ACCESS_TOKEN)\n",
    "\n",
    "# Execute a few sample queries\n",
    "\n",
    "print('---------------')\n",
    "print('Me')\n",
    "print('---------------')\n",
    "pp(g.get_object('me'))\n",
    "print\n",
    "print('---------------')\n",
    "print('My Friends')\n",
    "print('---------------')\n",
    "pp(g.get_connections('me', 'friends'))\n",
    "print\n",
    "print('---------------')\n",
    "print('Social Web')\n",
    "print('---------------')\n",
    "pp(g.request(\"search\", {'q' : 'social web', 'type' : 'page'}))"
   ]
  },
  {
   "cell_type": "markdown",
   "metadata": {},
   "source": [
    "## Example 3. Results for a Graph API query for Mining the Social Web"
   ]
  },
  {
   "cell_type": "code",
   "execution_count": 70,
   "metadata": {},
   "outputs": [
    {
     "name": "stdout",
     "output_type": "stream",
     "text": [
      "{\n",
      " \"name\": \"Mining the Social Web\",\n",
      " \"id\": \"146803958708175\",\n",
      " \"likes\": 2568,\n",
      " \"engagement\": {\n",
      "  \"social_sentence\": \"2.5K people like this.\",\n",
      "  \"count\": 2568\n",
      " }\n",
      "}\n"
     ]
    }
   ],
   "source": [
    "# Get an instance of Mining the Social Web\n",
    "# Using the page name also works if you know it.\n",
    "# e.g. 'MiningTheSocialWeb' or 'CrossFit'\n",
    "mtsw_id = '146803958708175'\n",
    "pp(g.get_object(mtsw_id,fields='id,name,likes,engagement'))\n",
    "#https://graph.facebook.com/FANPAGE_ID?access_token=ACCESS_TOKEN&fields=name,likes\n"
   ]
  },
  {
   "cell_type": "markdown",
   "metadata": {},
   "source": [
    "## Example 4. Querying the Graph API for Open Graph objects by their URLs"
   ]
  },
  {
   "cell_type": "code",
   "execution_count": 47,
   "metadata": {},
   "outputs": [
    {
     "name": "stdout",
     "output_type": "stream",
     "text": [
      "{\n",
      " \"id\": \"http://shop.oreilly.com/product/0636920030195.do\"\n",
      "}\n",
      "{\n",
      " \"id\": \"http://shop.oreilly.com/product/9780596529321.do\"\n",
      "}\n"
     ]
    }
   ],
   "source": [
    "# MTSW catalog link\n",
    "pp(g.get_object('http://shop.oreilly.com/product/0636920030195.do'))\n",
    "\n",
    "# PCI catalog link\n",
    "pp(g.get_object('http://shop.oreilly.com/product/9780596529321.do'))"
   ]
  },
  {
   "cell_type": "markdown",
   "metadata": {},
   "source": [
    "## Example 5. Comparing likes between Coke and Pepsi fan pages"
   ]
  },
  {
   "cell_type": "code",
   "execution_count": 76,
   "metadata": {},
   "outputs": [
    {
     "name": "stdout",
     "output_type": "stream",
     "text": [
      "Pepsi likes: 37,340,189\n",
      "Coke likes: 106,033,240\n"
     ]
    }
   ],
   "source": [
    "# Find Pepsi and Coke in search results\n",
    "\n",
    "#pp(g.request('search', {'q' : 'pepsi', 'type' : 'page', 'limit' : 5}))\n",
    "#pp(g.request('search', {'q' : 'coke', 'type' : 'page', 'limit' : 5}))\n",
    "\n",
    "# Use the ids to query for likes\n",
    "\n",
    "pepsi_id = '56381779049' # Could also use 'PepsiUS'\n",
    "coke_id = '40796308305'  # Could also use 'CocaCola'\n",
    "#print(\"Pepsi likes:\", g.get_object(pepsi_id,fields='likes'))\n",
    "# A quick way to format integers with commas every 3 digits\n",
    "def int_format(n): return \"{:,}\".format(n)\n",
    "print(\"Pepsi likes:\", int_format(g.get_object(pepsi_id,fields='likes')['likes']))\n",
    "print(\"Coke likes:\", int_format(g.get_object(coke_id,fields='likes')['likes']))"
   ]
  },
  {
   "cell_type": "markdown",
   "metadata": {},
   "source": [
    "## Example 6. Querying a page for its \"feed\" and \"links\" connections"
   ]
  },
  {
   "cell_type": "code",
   "execution_count": 16,
   "metadata": {},
   "outputs": [
    {
     "name": "stdout",
     "output_type": "stream",
     "text": [
      "{\n",
      " \"data\": [\n",
      "  {\n",
      "   \"message\": \"One word: delicious.\",\n",
      "   \"id\": \"56381779049_10156032126424050\",\n",
      "   \"created_time\": \"2017-10-11T21:00:10+0000\"\n",
      "  },\n",
      "  {\n",
      "   \"message\": \"Because what's more Fall than football (besides pumpkin spice)\\u2014jump into this episode of The Fun Doesn't End Zone now pep.si/TFDEZ\",\n",
      "   \"id\": \"56381779049_10211053156110970\",\n",
      "   \"created_time\": \"2017-10-10T18:00:00+0000\"\n",
      "  },\n",
      "  {\n",
      "   \"message\": \"When you realize we're in the best month of baseball\",\n",
      "   \"id\": \"56381779049_10156026707124050\",\n",
      "   \"created_time\": \"2017-10-09T22:00:28+0000\"\n",
      "  },\n",
      "  {\n",
      "   \"message\": \"This tee is ready for all the errands (or lounging) this Saturday has in store. http://pep.si/2xYKPzF\",\n",
      "   \"id\": \"56381779049_10156020164209050\",\n",
      "   \"created_time\": \"2017-10-07T17:00:09+0000\"\n",
      "  },\n",
      "  {\n",
      "   \"message\": \"Yes, we agree every good tailgate needs Pepsi. No, we did not tell them they had to say it \\ud83d\\ude09 pep.si/TFDEZ\",\n",
      "   \"id\": \"56381779049_10210951442208186\",\n",
      "   \"created_time\": \"2017-10-05T19:15:00+0000\"\n",
      "  },\n",
      "  {\n",
      "   \"message\": \"Take a look around the famous George Jones Museum\\u2014if you\\u2019re in Nashville, we highly recommend adding this honky tonk haven to your list (and yes, they serve Pepsi \\ud83d\\ude09).\",\n",
      "   \"id\": \"56381779049_10155994673539050\",\n",
      "   \"created_time\": \"2017-09-28T18:01:32+0000\"\n",
      "  },\n",
      "  {\n",
      "   \"message\": \"We loved catching Khalid on tour to chat inspiration and music for #TheSoundDrop Take a look at everything he had to say at pep.si/Khalid\",\n",
      "   \"id\": \"56381779049_10155986575879050\",\n",
      "   \"created_time\": \"2017-09-27T14:00:00+0000\"\n",
      "  },\n",
      "  {\n",
      "   \"message\": \"When someone asks how your Fantasy team is looking going into week 3\",\n",
      "   \"id\": \"56381779049_10210901619082639\",\n",
      "   \"created_time\": \"2017-09-24T16:15:00+0000\"\n",
      "  },\n",
      "  {\n",
      "   \"message\": \"15 mini cans to put a little pep in your party\\u2014grab a 15 pack now for game day!\",\n",
      "   \"id\": \"56381779049_10210761885949398\",\n",
      "   \"created_time\": \"2017-09-23T18:00:00+0000\"\n",
      "  },\n",
      "  {\n",
      "   \"message\": \"Khalid said it best\\u2014you can\\u2019t make the shot you didn\\u2019t take. Our latest episode of #TheSoundDrop is worth checking out! pep.si/Khalid\",\n",
      "   \"id\": \"56381779049_10155944304069050\",\n",
      "   \"created_time\": \"2017-09-21T21:00:00+0000\"\n",
      "  },\n",
      "  {\n",
      "   \"message\": \"Crystal Pepsi may not be around forever, but this CafePress hat is ready to stick around. Snag one now at pep.si/CP4\",\n",
      "   \"id\": \"56381779049_10155971240679050\",\n",
      "   \"created_time\": \"2017-09-20T20:09:23+0000\"\n",
      "  },\n",
      "  {\n",
      "   \"message\": \"We had our NFL players settle the age old debate\\u2014Blue Cheese or Ranch with your wings? pep.si/TFDEZ\",\n",
      "   \"id\": \"56381779049_10210901595642053\",\n",
      "   \"created_time\": \"2017-09-19T15:15:00+0000\"\n",
      "  },\n",
      "  {\n",
      "   \"message\": \"Trying to get everything done before football starts like...\",\n",
      "   \"id\": \"56381779049_10155961339914050\",\n",
      "   \"created_time\": \"2017-09-17T16:00:31+0000\"\n",
      "  },\n",
      "  {\n",
      "   \"message\": \"We talked about what inspires Khalid on #TheSoundDrop. Turns out it\\u2019s 90\\u2019s R&B, New York\\u2019s airy folk music and most of all HIS MOM. Don\\u2019t miss the newest episode pep.si/Khalid\",\n",
      "   \"id\": \"56381779049_10155932847814050\",\n",
      "   \"created_time\": \"2017-09-14T18:14:00+0000\"\n",
      "  },\n",
      "  {\n",
      "   \"message\": \"There\\u2019s a whole lot of winning going around with #TheyWinYouScore. Snap the code on specially marked bottles of Pepsi to enter the sweeps for major NFL prizes! pep.si/TWYS\",\n",
      "   \"id\": \"56381779049_10155910575724050\",\n",
      "   \"created_time\": \"2017-09-13T20:00:00+0000\"\n",
      "  },\n",
      "  {\n",
      "   \"message\": \"Best name for a pet unicorn? These NFL players have you covered for that and your other fantasy questions in The Fun Doesn\\u2019t End Zone. pep.si/TFDEZ\",\n",
      "   \"id\": \"56381779049_10155946407864050\",\n",
      "   \"created_time\": \"2017-09-12T14:01:29+0000\"\n",
      "  },\n",
      "  {\n",
      "   \"message\": \"Settling in to spend the entire day watching football.\",\n",
      "   \"id\": \"56381779049_10210817260533728\",\n",
      "   \"created_time\": \"2017-09-10T17:00:00+0000\"\n",
      "  },\n",
      "  {\n",
      "   \"message\": \"Get pumped for game day with 15 tailgate-ready mini cans.\",\n",
      "   \"id\": \"56381779049_10210761875349133\",\n",
      "   \"created_time\": \"2017-09-09T16:00:00+0000\"\n",
      "  },\n",
      "  {\n",
      "   \"message\": \"The new NFL celebration rules are in place and we\\u2019re all for it. #PepsiFootball is back and more fun than ever! pep.si/TFDEZ\",\n",
      "   \"id\": \"56381779049_10210787589951982\",\n",
      "   \"created_time\": \"2017-09-07T19:00:00+0000\"\n",
      "  },\n",
      "  {\n",
      "   \"message\": \"Gotta make sure that emoji game is on point, guys. Our NFL players breakdown their top emojis for The Fun Doesn\\u2019t End Zone pep.si/TFDEZ\",\n",
      "   \"id\": \"56381779049_10210787503869830\",\n",
      "   \"created_time\": \"2017-09-05T17:00:00+0000\"\n",
      "  },\n",
      "  {\n",
      "   \"message\": \"Khalid talks reimagining with R&B and folk influences, then hears Kina Grannis reimagine \\\"Young Dumb & Broke.\\\" These moments and more in our latest episode of #TheSoundDrop pep.si/Khalid\",\n",
      "   \"id\": \"56381779049_10155900929129050\",\n",
      "   \"created_time\": \"2017-09-04T15:00:00+0000\"\n",
      "  },\n",
      "  {\n",
      "   \"message\": \"15 mini cans ready to tailgate. Head to the store and snag your pack before game day!\",\n",
      "   \"id\": \"56381779049_10210761838348208\",\n",
      "   \"created_time\": \"2017-09-02T17:00:00+0000\"\n",
      "  },\n",
      "  {\n",
      "   \"message\": \"Take your draft party to Buffalo Wild Wings for exclusive Pepsi Fantasy Draft Kits + league-sized meals! \\u000b\\u000bpep.si/BWW\",\n",
      "   \"id\": \"56381779049_10155900927359050\",\n",
      "   \"created_time\": \"2017-09-01T20:00:00+0000\"\n",
      "  },\n",
      "  {\n",
      "   \"message\": \"This is rad, CafePress. And 20% off when you use promo code CRYSTAL today! pep.si/CP2\",\n",
      "   \"id\": \"56381779049_10155911073029050\",\n",
      "   \"created_time\": \"2017-08-31T21:00:11+0000\"\n",
      "  },\n",
      "  {\n",
      "   \"message\": \"Thinking season tickets might be nice next year? Enter our #TheyWinYouScore sweeps. Snap the code on specially marked Pepsi products, unlock your team, and you're instantly entered! pep.si/TWYS\",\n",
      "   \"id\": \"56381779049_10155880016624050\",\n",
      "   \"created_time\": \"2017-08-30T17:15:00+0000\"\n",
      "  }\n",
      " ],\n",
      " \"paging\": {\n",
      "  \"next\": \"https://graph.facebook.com/v2.5/56381779049/feed?access_token=EAACEdEose0cBALolSv6LKMYuRDCiN5ZCbiT0GWAoH4ugRZB5j6oDqUZB1EFHrCEa5wbkTEWkn5ZAHFlN3lx0ZAFACA4iFnpPoUkhi52I8hULHA5ffsdE3N8szYBPjCvCCZCwwLLZAd8mUJaA7a3ZBdamtG2ZAbfc3xCjRmaZB8NAZBhGZBp084AoHWbLckbZBLy7ekBaWgTjrMRGf0xy4arWFxg4NZB9ZAw9OTDCEsZD&limit=25&until=1504113300&__paging_token=enc_AdDY9sP5Qwh8f0OZANSAEuKANKEb8aSdH18iZAx0R2H0s3RjS9jDbzUgCuNkBsQ6yIXZAYZAAmSP78uYO5iUtAZBccbzH\",\n",
      "  \"previous\": \"https://graph.facebook.com/v2.5/56381779049/feed?since=1507755610&access_token=EAACEdEose0cBALolSv6LKMYuRDCiN5ZCbiT0GWAoH4ugRZB5j6oDqUZB1EFHrCEa5wbkTEWkn5ZAHFlN3lx0ZAFACA4iFnpPoUkhi52I8hULHA5ffsdE3N8szYBPjCvCCZCwwLLZAd8mUJaA7a3ZBdamtG2ZAbfc3xCjRmaZB8NAZBhGZBp084AoHWbLckbZBLy7ekBaWgTjrMRGf0xy4arWFxg4NZB9ZAw9OTDCEsZD&limit=25&__paging_token=enc_AdAAX0kDXTogJhHYOp4g7UlbyZCAEEVZA4t7K3EG7aWJ521YkwNGhBZBgXCfFepwhWzW4dsMLnoIZAUnaMMYLYotoHZBO&__previous=1\"\n",
      " }\n",
      "}\n"
     ]
    },
    {
     "ename": "GraphAPIError",
     "evalue": "(#12) links field is deprecated for versions v2.4 and higher",
     "output_type": "error",
     "traceback": [
      "\u001b[0;31m---------------------------------------------------------------------------\u001b[0m",
      "\u001b[0;31mGraphAPIError\u001b[0m                             Traceback (most recent call last)",
      "\u001b[0;32m<ipython-input-16-aaa8045b584f>\u001b[0m in \u001b[0;36m<module>\u001b[0;34m()\u001b[0m\n\u001b[1;32m      1\u001b[0m \u001b[0mpp\u001b[0m\u001b[1;33m(\u001b[0m\u001b[0mg\u001b[0m\u001b[1;33m.\u001b[0m\u001b[0mget_connections\u001b[0m\u001b[1;33m(\u001b[0m\u001b[0mpepsi_id\u001b[0m\u001b[1;33m,\u001b[0m \u001b[1;34m'feed'\u001b[0m\u001b[1;33m)\u001b[0m\u001b[1;33m)\u001b[0m\u001b[1;33m\u001b[0m\u001b[0m\n\u001b[0;32m----> 2\u001b[0;31m \u001b[0mpp\u001b[0m\u001b[1;33m(\u001b[0m\u001b[0mg\u001b[0m\u001b[1;33m.\u001b[0m\u001b[0mget_connections\u001b[0m\u001b[1;33m(\u001b[0m\u001b[0mpepsi_id\u001b[0m\u001b[1;33m,\u001b[0m \u001b[1;34m'links'\u001b[0m\u001b[1;33m)\u001b[0m\u001b[1;33m)\u001b[0m\u001b[1;33m\u001b[0m\u001b[0m\n\u001b[0m\u001b[1;32m      3\u001b[0m \u001b[1;33m\u001b[0m\u001b[0m\n\u001b[1;32m      4\u001b[0m \u001b[0mpp\u001b[0m\u001b[1;33m(\u001b[0m\u001b[0mg\u001b[0m\u001b[1;33m.\u001b[0m\u001b[0mget_connections\u001b[0m\u001b[1;33m(\u001b[0m\u001b[0mcoke_id\u001b[0m\u001b[1;33m,\u001b[0m \u001b[1;34m'feed'\u001b[0m\u001b[1;33m)\u001b[0m\u001b[1;33m)\u001b[0m\u001b[1;33m\u001b[0m\u001b[0m\n\u001b[1;32m      5\u001b[0m \u001b[0mpp\u001b[0m\u001b[1;33m(\u001b[0m\u001b[0mg\u001b[0m\u001b[1;33m.\u001b[0m\u001b[0mget_connections\u001b[0m\u001b[1;33m(\u001b[0m\u001b[0mcoke_id\u001b[0m\u001b[1;33m,\u001b[0m \u001b[1;34m'links'\u001b[0m\u001b[1;33m)\u001b[0m\u001b[1;33m)\u001b[0m\u001b[1;33m\u001b[0m\u001b[0m\n",
      "\u001b[0;32mC:\\Program Files\\Anaconda3\\lib\\site-packages\\facebook\\__init__.py\u001b[0m in \u001b[0;36mget_connections\u001b[0;34m(self, id, connection_name, **args)\u001b[0m\n\u001b[1;32m    117\u001b[0m         \u001b[1;34m\"\"\"Fetches the connections for given object.\"\"\"\u001b[0m\u001b[1;33m\u001b[0m\u001b[0m\n\u001b[1;32m    118\u001b[0m         return self.request(\n\u001b[0;32m--> 119\u001b[0;31m             \"%s/%s/%s\" % (self.version, id, connection_name), args)\n\u001b[0m\u001b[1;32m    120\u001b[0m \u001b[1;33m\u001b[0m\u001b[0m\n\u001b[1;32m    121\u001b[0m     \u001b[1;32mdef\u001b[0m \u001b[0mput_object\u001b[0m\u001b[1;33m(\u001b[0m\u001b[0mself\u001b[0m\u001b[1;33m,\u001b[0m \u001b[0mparent_object\u001b[0m\u001b[1;33m,\u001b[0m \u001b[0mconnection_name\u001b[0m\u001b[1;33m,\u001b[0m \u001b[1;33m**\u001b[0m\u001b[0mdata\u001b[0m\u001b[1;33m)\u001b[0m\u001b[1;33m:\u001b[0m\u001b[1;33m\u001b[0m\u001b[0m\n",
      "\u001b[0;32mC:\\Program Files\\Anaconda3\\lib\\site-packages\\facebook\\__init__.py\u001b[0m in \u001b[0;36mrequest\u001b[0;34m(self, path, args, post_args, files, method)\u001b[0m\n\u001b[1;32m    270\u001b[0m \u001b[1;33m\u001b[0m\u001b[0m\n\u001b[1;32m    271\u001b[0m         \u001b[1;32mif\u001b[0m \u001b[0mresult\u001b[0m \u001b[1;32mand\u001b[0m \u001b[0misinstance\u001b[0m\u001b[1;33m(\u001b[0m\u001b[0mresult\u001b[0m\u001b[1;33m,\u001b[0m \u001b[0mdict\u001b[0m\u001b[1;33m)\u001b[0m \u001b[1;32mand\u001b[0m \u001b[0mresult\u001b[0m\u001b[1;33m.\u001b[0m\u001b[0mget\u001b[0m\u001b[1;33m(\u001b[0m\u001b[1;34m\"error\"\u001b[0m\u001b[1;33m)\u001b[0m\u001b[1;33m:\u001b[0m\u001b[1;33m\u001b[0m\u001b[0m\n\u001b[0;32m--> 272\u001b[0;31m             \u001b[1;32mraise\u001b[0m \u001b[0mGraphAPIError\u001b[0m\u001b[1;33m(\u001b[0m\u001b[0mresult\u001b[0m\u001b[1;33m)\u001b[0m\u001b[1;33m\u001b[0m\u001b[0m\n\u001b[0m\u001b[1;32m    273\u001b[0m         \u001b[1;32mreturn\u001b[0m \u001b[0mresult\u001b[0m\u001b[1;33m\u001b[0m\u001b[0m\n\u001b[1;32m    274\u001b[0m \u001b[1;33m\u001b[0m\u001b[0m\n",
      "\u001b[0;31mGraphAPIError\u001b[0m: (#12) links field is deprecated for versions v2.4 and higher"
     ]
    }
   ],
   "source": [
    "pp(g.get_connections(pepsi_id, 'feed'))\n",
    "pp(g.get_connections(pepsi_id, 'links'))\n",
    "\n",
    "pp(g.get_connections(coke_id, 'feed'))\n",
    "pp(g.get_connections(coke_id, 'links'))"
   ]
  },
  {
   "cell_type": "markdown",
   "metadata": {},
   "source": [
    "## Example 7. Querying for all of your friends' likes"
   ]
  },
  {
   "cell_type": "code",
   "execution_count": 33,
   "metadata": {},
   "outputs": [
    {
     "name": "stdout",
     "output_type": "stream",
     "text": [
      "{}\n"
     ]
    }
   ],
   "source": [
    "# First, let's query for all of the likes in your social\n",
    "# network and store them in a slightly more convenient\n",
    "# data structure as a dictionary keyed on each friend's\n",
    "# name. We'll use a dictionary comprehension to iterate\n",
    "# over the friends and build up the likes in an intuitive\n",
    "# way, although the new \"field expansion\" feature could \n",
    "# technically do the job in one fell swoop as follows:\n",
    "#\n",
    "# g.get_object('me', fields='id,name,friends.fields(id,name,likes)')\n",
    "#\n",
    "# See Appendix C for more information on Python tips such as\n",
    "# dictionary comprehensions\n",
    "\n",
    "friends = g.get_connections(\"me\", \"friends\")['data']\n",
    "\n",
    "likes = { friend['name'] : g.get_connections(friend['id'], \"likes\")['data'] \n",
    "          for friend in friends }\n",
    "\n",
    "print(likes)"
   ]
  },
  {
   "cell_type": "code",
   "execution_count": null,
   "metadata": {
    "collapsed": true
   },
   "outputs": [],
   "source": []
  }
 ],
 "metadata": {
  "anaconda-cloud": {},
  "kernelspec": {
   "display_name": "Python 3",
   "language": "python",
   "name": "python3"
  },
  "language_info": {
   "codemirror_mode": {
    "name": "ipython",
    "version": 3
   },
   "file_extension": ".py",
   "mimetype": "text/x-python",
   "name": "python",
   "nbconvert_exporter": "python",
   "pygments_lexer": "ipython3",
   "version": "3.8.5"
  }
 },
 "nbformat": 4,
 "nbformat_minor": 1
}
