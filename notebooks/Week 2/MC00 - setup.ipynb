{
 "cells": [
  {
   "cell_type": "markdown",
   "metadata": {},
   "source": [
    "Media Cloud: Setting up Your Environment\n",
    "========================================\n",
    "\n",
    "[Media Cloud](https://mediacloud.org) is an open-source platform for media analysis. It is a collaborative academic project supported by various non-profit foundations since 2011. You can use our various online tools to investigate news coverage about your topic of interest, and all the same information is available via a rich API.\n",
    "\n",
    "This set of notebooks is a brief introduction to the API. It covers many of the most common operations we see researchers performing. The API is fully featured, so much so that [all our web-based tools](https://tools.mediacloud.org/#/home) are built on top of it.\n",
    "\n",
    "Relevant references:\n",
    "* Our [a Python client for the api on PyPi](https://pypi.org/project/mediacloud/)\n",
    "* The [general Media Cloud API specification](https://github.com/berkmancenter/mediacloud/blob/master/doc/api_2_0_spec/api_2_0_spec.md)\n",
    "* The [topic-mapper specific Media Cloud API Specification](https://github.com/berkmancenter/mediacloud/blob/master/doc/api_2_0_spec/topics_api_2_0_spec.md)"
   ]
  },
  {
   "cell_type": "markdown",
   "metadata": {},
   "source": [
    "## Setup Your API Key for this Tutorial\n",
    "\n",
    "You need to instantiate a client with your **private** API key. This key is linked to your account, and has a quota attached to it so you don't blow up our servers. If you run into the quota then you will see errors returned in your API calls. Email us if you need to increase your quota.\n",
    "\n",
    "To obtain your api key, you can:\n",
    "1. [login to any of our tools](https://tools.mediacloud.org/)\n",
    "2. click the little person icon in the top right, then select \"profile\"\n",
    "3. copy your API key from where it is shown in the list of information about your account\n",
    "\n",
    "For this tutorial, we decided to use the commonly used [`python-dotenv`](https://pypi.org/project/python-dotenv/) library to load this magic string in each notebook file without exposing it.\n",
    "\n",
    "1. In this Jupyter Lab hosted on Binder, select File -> Open from Path from the menu bar\n",
    "2. Type in \".env\" and click Open\n",
    "3. Replace \"MY_MC_API_KEY\" with your API key (from your profile page)\n",
    "4. Select File -> Save"
   ]
  },
  {
   "cell_type": "markdown",
   "metadata": {},
   "source": [
    "## Installing and Instantiating a Client\n",
    "\n",
    "All our web tools are built on top of our API. Most endpoints are publicly availabe, while others require administrative access. You can read a summary and see the low-level API documentation in our [back-end GitHub repository](https://github.com/berkmancenter/mediacloud/blob/master/doc/api_2_0_spec/api_2_0_spec.md)."
   ]
  },
  {
   "cell_type": "code",
   "execution_count": 3,
   "metadata": {},
   "outputs": [
    {
     "name": "stdout",
     "output_type": "stream",
     "text": [
      "Collecting requests==2.20.0\n",
      "  Downloading requests-2.20.0-py2.py3-none-any.whl (60 kB)\n",
      "Requirement already satisfied: certifi>=2017.4.17 in c:\\programdata\\anaconda3\\lib\\site-packages (from requests==2.20.0) (2021.5.30)\n",
      "Collecting idna<2.8,>=2.5\n",
      "  Downloading idna-2.7-py2.py3-none-any.whl (58 kB)\n",
      "Requirement already satisfied: chardet<3.1.0,>=3.0.2 in c:\\programdata\\anaconda3 (from requests==2.20.0) (3.0.4)\n",
      "Collecting urllib3<1.25,>=1.21.1\n",
      "  Downloading urllib3-1.24.3-py2.py3-none-any.whl (118 kB)\n",
      "Installing collected packages: idna, urllib3, requests\n",
      "  Attempting uninstall: idna\n",
      "    Found existing installation: idna 3.2\n",
      "    Uninstalling idna-3.2:\n"
     ]
    },
    {
     "name": "stderr",
     "output_type": "stream",
     "text": [
      "ERROR: Could not install packages due to an EnvironmentError: [WinError 5] Access is denied: 'c:\\\\programdata\\\\anaconda3\\\\lib\\\\site-packages\\\\idna-3.2.dist-info\\\\INSTALLER'\n",
      "Consider using the `--user` option or check the permissions.\n",
      "\n"
     ]
    },
    {
     "name": "stdout",
     "output_type": "stream",
     "text": [
      "Collecting pymongo\n",
      "  Downloading pymongo-4.0-cp38-cp38-win_amd64.whl (354 kB)\n",
      "Installing collected packages: pymongo\n",
      "Successfully installed pymongo-4.0\n",
      "Requirement already satisfied: pylint in c:\\programdata\\anaconda3\\lib\\site-packages (2.6.0)\n",
      "Requirement already satisfied: toml>=0.7.1 in c:\\programdata\\anaconda3 (from pylint) (0.10.2)\n",
      "Requirement already satisfied: astroid<=2.5,>=2.4.0 in c:\\programdata\\anaconda3\\lib\\site-packages (from pylint) (2.4.2)\n",
      "Requirement already satisfied: isort<6,>=4.2.5 in c:\\programdata\\anaconda3\\lib\\site-packages (from pylint) (5.6.4)\n",
      "Requirement already satisfied: colorama; sys_platform == \"win32\" in c:\\programdata\\anaconda3 (from pylint) (0.4.4)\n",
      "Requirement already satisfied: mccabe<0.7,>=0.6 in c:\\programdata\\anaconda3\\lib\\site-packages (from pylint) (0.6.1)\n",
      "Requirement already satisfied: lazy-object-proxy==1.4.* in c:\\programdata\\anaconda3\\lib\\site-packages (from astroid<=2.5,>=2.4.0->pylint) (1.4.3)\n",
      "Requirement already satisfied: wrapt~=1.11 in c:\\programdata\\anaconda3\\lib\\site-packages (from astroid<=2.5,>=2.4.0->pylint) (1.11.2)\n",
      "Requirement already satisfied: six~=1.12 in c:\\programdata\\anaconda3\\lib\\site-packages (from astroid<=2.5,>=2.4.0->pylint) (1.16.0)\n",
      "Collecting python-dotenv\n",
      "  Downloading python_dotenv-0.19.2-py2.py3-none-any.whl (17 kB)\n",
      "Installing collected packages: python-dotenv\n",
      "Successfully installed python-dotenv-0.19.2\n",
      "Requirement already satisfied: twine in c:\\programdata\\anaconda3\\lib\\site-packages (3.4.2)\n",
      "Requirement already satisfied: rfc3986>=1.4.0 in c:\\programdata\\anaconda3\\lib\\site-packages (from twine) (1.5.0)\n",
      "Requirement already satisfied: requests>=2.20 in c:\\programdata\\anaconda3\\lib\\site-packages (from twine) (2.26.0)\n",
      "Requirement already satisfied: tqdm>=4.14 in c:\\programdata\\anaconda3\\lib\\site-packages (from twine) (4.50.2)\n",
      "Requirement already satisfied: readme-renderer>=21.0 in c:\\programdata\\anaconda3\\lib\\site-packages (from twine) (30.0)\n",
      "Requirement already satisfied: requests-toolbelt!=0.9.0,>=0.8.0 in c:\\programdata\\anaconda3\\lib\\site-packages (from twine) (0.9.1)\n",
      "Requirement already satisfied: keyring>=15.1 in c:\\programdata\\anaconda3\\lib\\site-packages (from twine) (21.4.0)\n",
      "Requirement already satisfied: colorama>=0.4.3 in c:\\programdata\\anaconda3 (from twine) (0.4.4)\n",
      "Requirement already satisfied: importlib-metadata>=3.6 in c:\\programdata\\anaconda3\\lib\\site-packages (from twine) (4.8.1)\n",
      "Requirement already satisfied: pkginfo>=1.4.2 in c:\\programdata\\anaconda3\\lib\\site-packages (from twine) (1.6.1)\n",
      "Requirement already satisfied: charset-normalizer~=2.0.0; python_version >= \"3\" in c:\\programdata\\anaconda3\\lib\\site-packages (from requests>=2.20->twine) (2.0.4)\n",
      "Requirement already satisfied: certifi>=2017.4.17 in c:\\programdata\\anaconda3\\lib\\site-packages (from requests>=2.20->twine) (2021.5.30)\n",
      "Requirement already satisfied: idna<4,>=2.5; python_version >= \"3\" in c:\\programdata\\anaconda3\\lib\\site-packages (from requests>=2.20->twine) (3.2)\n",
      "Requirement already satisfied: urllib3<1.27,>=1.21.1 in c:\\programdata\\anaconda3\\lib\\site-packages (from requests>=2.20->twine) (1.26.6)\n",
      "Requirement already satisfied: bleach>=2.1.0 in c:\\programdata\\anaconda3\\lib\\site-packages (from readme-renderer>=21.0->twine) (3.2.1)\n",
      "Requirement already satisfied: docutils>=0.13.1 in c:\\programdata\\anaconda3\\lib\\site-packages (from readme-renderer>=21.0->twine) (0.16)\n",
      "Requirement already satisfied: Pygments>=2.5.1 in c:\\programdata\\anaconda3\\lib\\site-packages (from readme-renderer>=21.0->twine) (2.7.2)\n",
      "Requirement already satisfied: pywin32-ctypes!=0.1.0,!=0.1.1; sys_platform == \"win32\" in c:\\programdata\\anaconda3\\lib\\site-packages (from keyring>=15.1->twine) (0.2.0)\n",
      "Requirement already satisfied: zipp>=0.5 in c:\\programdata\\anaconda3 (from importlib-metadata>=3.6->twine) (3.4.0)\n",
      "Requirement already satisfied: webencodings in c:\\programdata\\anaconda3\\lib\\site-packages (from bleach>=2.1.0->readme-renderer>=21.0->twine) (0.5.1)\n",
      "Requirement already satisfied: six>=1.9.0 in c:\\programdata\\anaconda3\\lib\\site-packages (from bleach>=2.1.0->readme-renderer>=21.0->twine) (1.16.0)\n",
      "Requirement already satisfied: packaging in c:\\programdata\\anaconda3 (from bleach>=2.1.0->readme-renderer>=21.0->twine) (20.7)\n",
      "Requirement already satisfied: pyparsing>=2.0.2 in c:\\programdata\\anaconda3 (from packaging->bleach>=2.1.0->readme-renderer>=21.0->twine) (2.4.7)\n",
      "Requirement already satisfied: wheel in c:\\programdata\\anaconda3\\lib\\site-packages (0.35.1)\n",
      "Requirement already satisfied: keyring in c:\\programdata\\anaconda3\\lib\\site-packages (21.4.0)\n",
      "Requirement already satisfied: pywin32-ctypes!=0.1.0,!=0.1.1; sys_platform == \"win32\" in c:\\programdata\\anaconda3\\lib\\site-packages (from keyring) (0.2.0)\n"
     ]
    }
   ],
   "source": [
    "# If you are running this locally (not on Binder), then you should install the requirements. If you are using this on\n",
    "# Binder then all of these will be installed for you automatically.\n",
    "#import sys\n",
    "#!{sys.executable} -m pip install -r requirements.txt\n",
    "!pip install requests==2.20.0\n",
    "!pip install pymongo\n",
    "!pip install pylint\n",
    "!pip install python-dotenv\n",
    "!pip install twine\n",
    "!pip install wheel\n",
    "!pip install keyring\n",
    "!pip install mediacloud"
   ]
  },
  {
   "cell_type": "code",
   "execution_count": 4,
   "metadata": {},
   "outputs": [
    {
     "data": {
      "text/plain": [
       "True"
      ]
     },
     "execution_count": 4,
     "metadata": {},
     "output_type": "execute_result"
    }
   ],
   "source": [
    "from dotenv import load_dotenv\n",
    "load_dotenv()  # load config from .env file"
   ]
  },
  {
   "cell_type": "code",
   "execution_count": 8,
   "metadata": {},
   "outputs": [
    {
     "data": {
      "text/plain": [
       "'3.12.5'"
      ]
     },
     "execution_count": 8,
     "metadata": {},
     "output_type": "execute_result"
    }
   ],
   "source": [
    "import os, mediacloud.api\n",
    "# Read your personal API key from that .env file \n",
    "my_mc_api_key = ''\n",
    "# A convention we use is to name your api client `mc`\n",
    "mc = mediacloud.api.MediaCloud(my_mc_api_key)\n",
    "mediacloud.__version__"
   ]
  },
  {
   "cell_type": "code",
   "execution_count": 9,
   "metadata": {},
   "outputs": [
    {
     "data": {
      "text/plain": [
       "{'active_crawled_feeds': 163577,\n",
       " 'active_crawled_media': 58445,\n",
       " 'daily_downloads': 1079743,\n",
       " 'daily_stories': 680552,\n",
       " 'mediacloud_stats_id': 731,\n",
       " 'stats_date': '2021-11-28',\n",
       " 'total_downloads': 0,\n",
       " 'total_sentences': 0,\n",
       " 'total_stories': 1980295680}"
      ]
     },
     "execution_count": 9,
     "metadata": {},
     "output_type": "execute_result"
    }
   ],
   "source": [
    "# make sure your connection and API key work by asking for the high-level system statistics\n",
    "mc.stats()"
   ]
  },
  {
   "cell_type": "code",
   "execution_count": 10,
   "metadata": {},
   "outputs": [
    {
     "data": {
      "application/json": {
       "active_crawled_feeds": 163577,
       "active_crawled_media": 58445,
       "daily_downloads": 1079743,
       "daily_stories": 680552,
       "mediacloud_stats_id": 731,
       "stats_date": "2021-11-28",
       "total_downloads": 0,
       "total_sentences": 0,
       "total_stories": 1980295680
      },
      "text/plain": [
       "<IPython.core.display.JSON object>"
      ]
     },
     "execution_count": 10,
     "metadata": {
      "application/json": {
       "expanded": false,
       "root": "root"
      }
     },
     "output_type": "execute_result"
    }
   ],
   "source": [
    "# or print it out as a nice json tree - we'll use this later (only works in Jupyter Lab)\n",
    "from IPython.display import JSON\n",
    "JSON(mc.stats())"
   ]
  },
  {
   "cell_type": "code",
   "execution_count": null,
   "metadata": {},
   "outputs": [],
   "source": []
  }
 ],
 "metadata": {
  "kernelspec": {
   "display_name": "Python 3",
   "language": "python",
   "name": "python3"
  },
  "language_info": {
   "codemirror_mode": {
    "name": "ipython",
    "version": 3
   },
   "file_extension": ".py",
   "mimetype": "text/x-python",
   "name": "python",
   "nbconvert_exporter": "python",
   "pygments_lexer": "ipython3",
   "version": "3.8.5"
  }
 },
 "nbformat": 4,
 "nbformat_minor": 4
}
